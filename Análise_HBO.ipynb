{
 "cells": [
  {
   "cell_type": "markdown",
   "id": "0c93c91c",
   "metadata": {},
   "source": [
    "## Instituto Superior de Gestão e Administração de Santarém\n",
    "### Curso PG em Data Science\n",
    "\n",
    "\n",
    "\n",
    "##### a22210497 – Inês Luís\n",
    "##### a22203942 – Rodrigo Antunes\n",
    "##### a22210477 – Tiago Flor\n",
    "\n",
    "\n",
    "#### Docente: Prof. Pedro Sobreiro\n",
    "\n",
    "\n",
    "#### Unidade Curricular: Processamento de Big Data\n",
    "\n",
    "#### Santarém - Ano letivo 2022-2023"
   ]
  },
  {
   "cell_type": "markdown",
   "id": "c3a7661b",
   "metadata": {},
   "source": [
    "# 1. Introdução"
   ]
  },
  {
   "cell_type": "markdown",
   "id": "61dc2504",
   "metadata": {},
   "source": [
    "O presente estudo é realizado no âmbito da unidade curricular de processamento de big data da pós-graduação de Data Science. \n",
    "\n",
    "Este estudo tem como objetivo aplicabilidade de um algoritmo em machine learning com recurso ao pyspark.\n",
    "Como origem de dados para tratamento e análise, recorreu-se à utilização de um dataset pré-existente, denominado ‘HBO Max TV Shows and Movies’, obtido através da plataforma Kaggle, em https://www.kaggle.com/. \n",
    "A montagem do algoritmo deu-se com recurso do jupyter notebook, com recurso à linguagem markdown para formatar e estruturar o texto. \n",
    "\n",
    "O dataset caracteriza-se por uma lista de todos os programas disponíveis na plataforma streaming da HBO Max. Os dados que o constituem foram adquiridos em maio de 2022 nos Estados Unidos.\n",
    "A análise ao referido dataset tem como objetivo facilitar, na ótica de um potencial investidor ou grupo de investidores, um estudo de possível receção de mercado, tendo como principal indicador a pontuação IMDB, sendo que se pretende, através do modelo construído, prever qual a pontuação esperada que uma nova série, com determinados atributos, poderá atingir."
   ]
  },
  {
   "cell_type": "markdown",
   "id": "675f19ff",
   "metadata": {},
   "source": [
    "# 2. Metodologia"
   ]
  },
  {
   "cell_type": "markdown",
   "id": "7361d7b8",
   "metadata": {},
   "source": [
    "O trabalho foi desenvolvido no jupyter notebook. Após importação das bibliotecas necessárias, e visualização do dataset, estudou-se a estrutura de dados. "
   ]
  },
  {
   "cell_type": "code",
   "execution_count": 36,
   "id": "b34c965b",
   "metadata": {},
   "outputs": [],
   "source": [
    "from pyspark.sql import SparkSession\n",
    "from pyspark.ml.feature import VectorAssembler\n",
    "from pyspark.ml.regression import LinearRegression\n",
    "from pyspark.ml.evaluation import RegressionEvaluator\n",
    "from pyspark.sql.functions import regexp_replace, split, col, count, countDistinct\n",
    "\n",
    "import matplotlib.pyplot as plt"
   ]
  },
  {
   "cell_type": "code",
   "execution_count": 4,
   "id": "c87c5833",
   "metadata": {
    "scrolled": true
   },
   "outputs": [
    {
     "data": {
      "text/html": [
       "\n",
       "            <div>\n",
       "                <p><b>SparkSession - in-memory</b></p>\n",
       "                \n",
       "        <div>\n",
       "            <p><b>SparkContext</b></p>\n",
       "\n",
       "            <p><a href=\"http://192.168.1.72:4040\">Spark UI</a></p>\n",
       "\n",
       "            <dl>\n",
       "              <dt>Version</dt>\n",
       "                <dd><code>v3.3.2</code></dd>\n",
       "              <dt>Master</dt>\n",
       "                <dd><code>local[*]</code></dd>\n",
       "              <dt>AppName</dt>\n",
       "                <dd><code>HBO Max TV Shows and Movies</code></dd>\n",
       "            </dl>\n",
       "        </div>\n",
       "        \n",
       "            </div>\n",
       "        "
      ],
      "text/plain": [
       "<pyspark.sql.session.SparkSession at 0x1d0341965b0>"
      ]
     },
     "execution_count": 4,
     "metadata": {},
     "output_type": "execute_result"
    }
   ],
   "source": [
    "spark = SparkSession.builder.appName(\"HBO Max TV Shows and Movies\").getOrCreate()\n",
    "spark"
   ]
  },
  {
   "cell_type": "markdown",
   "id": "1c4c680d",
   "metadata": {},
   "source": [
    "#### Importação do dataset"
   ]
  },
  {
   "cell_type": "code",
   "execution_count": 7,
   "id": "d66a8ebf",
   "metadata": {
    "scrolled": true
   },
   "outputs": [
    {
     "name": "stdout",
     "output_type": "stream",
     "text": [
      "+--------+------------------+-----+--------------------+------------+-----------------+-------+--------------------+--------------------+-------+---------+----------+----------+---------------+----------+\n",
      "|      id|             title| type|         description|release_year|age_certification|runtime|              genres|production_countries|seasons|  imdb_id|imdb_score|imdb_votes|tmdb_popularity|tmdb_score|\n",
      "+--------+------------------+-----+--------------------+------------+-----------------+-------+--------------------+--------------------+-------+---------+----------+----------+---------------+----------+\n",
      "|tm155702|  The Wizard of Oz|MOVIE|Young Dorothy fin...|        1939|                G|    102|['fantasy', 'fami...|              ['US']|   null|tt0032138|       8.1|  389774.0|         41.442|       7.6|\n",
      "| tm83648|      Citizen Kane|MOVIE|Newspaper magnate...|        1941|               PG|    119|           ['drama']|              ['US']|   null|tt0033467|       8.3|  433804.0|         14.383|       8.0|\n",
      "| tm77588|        Casablanca|MOVIE|In Casablanca, Mo...|        1942|               PG|    102|['drama', 'romanc...|              ['US']|   null|tt0034583|       8.5|  558849.0|         20.087|       8.2|\n",
      "| tm82363|     The Big Sleep|MOVIE|Private Investiga...|        1946|             null|    116|['thriller', 'cri...|              ['US']|   null|tt0038355|       7.9|   84494.0|         12.911|       7.7|\n",
      "| tm84701|The Maltese Falcon|MOVIE|A private detecti...|        1941|             null|    100|['thriller', 'rom...|              ['US']|   null|tt0033870|       8.0|  156603.0|         12.788|       7.8|\n",
      "+--------+------------------+-----+--------------------+------------+-----------------+-------+--------------------+--------------------+-------+---------+----------+----------+---------------+----------+\n",
      "only showing top 5 rows\n",
      "\n"
     ]
    }
   ],
   "source": [
    "hbo_df = spark.read.csv(r\"/titles.csv\", header=True, inferSchema=True)\n",
    "hbo_df.show(5)"
   ]
  },
  {
   "cell_type": "markdown",
   "id": "b9b8334b",
   "metadata": {},
   "source": [
    "#### Tipos de dados"
   ]
  },
  {
   "cell_type": "code",
   "execution_count": 8,
   "id": "efece9ce",
   "metadata": {
    "scrolled": true
   },
   "outputs": [
    {
     "name": "stdout",
     "output_type": "stream",
     "text": [
      "root\n",
      " |-- id: string (nullable = true)\n",
      " |-- title: string (nullable = true)\n",
      " |-- type: string (nullable = true)\n",
      " |-- description: string (nullable = true)\n",
      " |-- release_year: string (nullable = true)\n",
      " |-- age_certification: string (nullable = true)\n",
      " |-- runtime: string (nullable = true)\n",
      " |-- genres: string (nullable = true)\n",
      " |-- production_countries: string (nullable = true)\n",
      " |-- seasons: string (nullable = true)\n",
      " |-- imdb_id: string (nullable = true)\n",
      " |-- imdb_score: string (nullable = true)\n",
      " |-- imdb_votes: string (nullable = true)\n",
      " |-- tmdb_popularity: string (nullable = true)\n",
      " |-- tmdb_score: string (nullable = true)\n",
      "\n"
     ]
    }
   ],
   "source": [
    "hbo_df.printSchema()"
   ]
  },
  {
   "cell_type": "markdown",
   "id": "b6341e1f",
   "metadata": {},
   "source": [
    "#### Conversão de dados string para numéricos (int, double, float)"
   ]
  },
  {
   "cell_type": "code",
   "execution_count": 9,
   "id": "0407cdeb",
   "metadata": {},
   "outputs": [],
   "source": [
    "hbo_df = hbo_df.withColumn('release_year', col('release_year').cast('integer'))\n",
    "hbo_df = hbo_df.withColumn('seasons', col('seasons').cast('integer'))\n",
    "hbo_df = hbo_df.withColumn('imdb_votes', col('imdb_votes').cast('integer'))\n",
    "hbo_df = hbo_df.withColumn('runtime', col('runtime').cast('double'))\n",
    "hbo_df = hbo_df.withColumn('tmdb_popularity', col('tmdb_popularity').cast('double'))\n",
    "hbo_df = hbo_df.withColumn('imdb_score', col('imdb_score').cast('double'))"
   ]
  },
  {
   "cell_type": "markdown",
   "id": "a21c3653",
   "metadata": {},
   "source": [
    "Com base na importação e tratamento preliminar, verifica-se que o conjunto de dados do dataset está representado em 15 atributos, todos estes do tipo string. Neste sentido, com base na análise que se pretende efetuar, foram efetuadas algumas conversões através da função ‘cast’. As colunas ‘release_year’, ‘seasons’, 'imdb_votes' estavam inicialmente num formato ‘string’ e foram convertidas para o formato ‘integer’. As colunas 'runtime' 'tmdb_popularity' e 'imdb_score' também estavam inicialmente num formato ‘string’, mas foram convertidas para o formato 'double'."
   ]
  },
  {
   "cell_type": "markdown",
   "id": "8e6906e2",
   "metadata": {},
   "source": [
    "#### Validação das conversões efetuadas"
   ]
  },
  {
   "cell_type": "code",
   "execution_count": 10,
   "id": "5018d7ff",
   "metadata": {
    "scrolled": true
   },
   "outputs": [
    {
     "name": "stdout",
     "output_type": "stream",
     "text": [
      "root\n",
      " |-- id: string (nullable = true)\n",
      " |-- title: string (nullable = true)\n",
      " |-- type: string (nullable = true)\n",
      " |-- description: string (nullable = true)\n",
      " |-- release_year: integer (nullable = true)\n",
      " |-- age_certification: string (nullable = true)\n",
      " |-- runtime: double (nullable = true)\n",
      " |-- genres: string (nullable = true)\n",
      " |-- production_countries: string (nullable = true)\n",
      " |-- seasons: integer (nullable = true)\n",
      " |-- imdb_id: string (nullable = true)\n",
      " |-- imdb_score: double (nullable = true)\n",
      " |-- imdb_votes: integer (nullable = true)\n",
      " |-- tmdb_popularity: double (nullable = true)\n",
      " |-- tmdb_score: string (nullable = true)\n",
      "\n"
     ]
    }
   ],
   "source": [
    "hbo_df.printSchema()"
   ]
  },
  {
   "cell_type": "markdown",
   "id": "ea2ab7d5",
   "metadata": {},
   "source": [
    "Após as conversões, é possível analisar os dados numéricos da base de dados, e, nesse sentido, foi utilizado o método \"describe\" para verificar a estatística descritiva e visualizadas através do método “show” (limitado a 6 caracteres, ‘truncate’=6)."
   ]
  },
  {
   "cell_type": "markdown",
   "id": "34e69e9c",
   "metadata": {},
   "source": [
    "#### Dados Estatisticos"
   ]
  },
  {
   "cell_type": "code",
   "execution_count": 11,
   "id": "c2b69be1",
   "metadata": {},
   "outputs": [
    {
     "name": "stdout",
     "output_type": "stream",
     "text": [
      "+-------+------+------+------+-----------+------------+-----------------+-------+------+--------------------+-------+-------+----------+----------+---------------+----------+\n",
      "|summary|    id| title|  type|description|release_year|age_certification|runtime|genres|production_countries|seasons|imdb_id|imdb_score|imdb_votes|tmdb_popularity|tmdb_score|\n",
      "+-------+------+------+------+-----------+------------+-----------------+-------+------+--------------------+-------+-------+----------+----------+---------------+----------+\n",
      "|  count|  3334|  3334|  3331|       3319|        3116|             2141|   3157|  3289|                3291|    738|   2947|      2799|      2819|           3178|      3010|\n",
      "|   mean|  null|151...|199...|     124...|      199...|           186...| 106...|741...|              602...| 91....| 492...|    114...|    630...|         170...|    308...|\n",
      "| stddev|  null|893...|11....|     100...|      74....|           503...| 220...|917...|              877...| 828...| 114...|    386...|    170...|         430...|    510...|\n",
      "|    min| mo...| \"\"...| 20...|       2000|          22|             2001|    1.0| \"\"...|               AJ...|      1|   2010|       1.0|         0|         0.0...|     2012.|\n",
      "|    max|ts9986|Áre...| TV-MA|     ﻿﻿T...|        2022|           ['c...| 2021.0|tt0...|              tt0...|  16677| tt9...|    156...|    255...|         226...|    tt5...|\n",
      "+-------+------+------+------+-----------+------------+-----------------+-------+------+--------------------+-------+-------+----------+----------+---------------+----------+\n",
      "\n"
     ]
    }
   ],
   "source": [
    "summary = hbo_df.describe()\n",
    "summary.show(truncate = 6)"
   ]
  },
  {
   "cell_type": "code",
   "execution_count": 12,
   "id": "bf709987",
   "metadata": {},
   "outputs": [
    {
     "data": {
      "image/png": "[encoded data removed]",
      "text/plain": [
       "<Figure size 640x480 with 1 Axes>"
      ]
     },
     "metadata": {},
     "output_type": "display_data"
    }
   ],
   "source": [
    "year = hbo_df.select('release_year')\n",
    "year = year.toPandas()\n",
    "\n",
    "year.hist(column = 'release_year',grid = False,histtype='bar',bins=655,rwidth=0.9)\n",
    "plt.title(\"Quantidades de Séries/Filmes por ano\")\n",
    "plt.xlabel('Ano')\n",
    "plt.xlim(1920,2021)\n",
    "plt.ylabel('Quantidade')\n",
    "plt.ylim(0,800)\n",
    "plt.show()"
   ]
  },
  {
   "cell_type": "code",
   "execution_count": 13,
   "id": "8860d914",
   "metadata": {},
   "outputs": [
    {
     "data": {
      "image/png": "[encoded data removed]",
      "text/plain": [
       "<Figure size 640x480 with 1 Axes>"
      ]
     },
     "metadata": {},
     "output_type": "display_data"
    }
   ],
   "source": [
    "duration = hbo_df.select('runtime')\n",
    "duration = duration.toPandas()\n",
    "\n",
    "duration.hist(column = 'runtime',grid = False, bins = 211,histtype='step')\n",
    "plt.title(\"Quantidade de Séries/Filmes com a mesma duração\")\n",
    "plt.xlabel('Duração (min)')\n",
    "plt.xlim(0,300)\n",
    "plt.ylabel('Quantidade')\n",
    "plt.ylim(0,450)\n",
    "plt.show()"
   ]
  },
  {
   "cell_type": "code",
   "execution_count": 14,
   "id": "4272df54",
   "metadata": {
    "scrolled": false
   },
   "outputs": [
    {
     "name": "stdout",
     "output_type": "stream",
     "text": [
      "+----------+-----+\n",
      "|imdb_score|Count|\n",
      "+----------+-----+\n",
      "|       9.4|    3|\n",
      "|       9.3|    3|\n",
      "|       9.2|    5|\n",
      "|       9.0|    8|\n",
      "|       8.9|    7|\n",
      "|       8.8|   11|\n",
      "|       8.7|   18|\n",
      "|       8.6|   22|\n",
      "|       8.5|   33|\n",
      "|       8.4|   30|\n",
      "|       8.3|   48|\n",
      "|       8.2|   58|\n",
      "|       8.1|   76|\n",
      "|       8.0|   83|\n",
      "|       7.9|   74|\n",
      "|       7.8|   82|\n",
      "|       7.7|   98|\n",
      "|       7.6|  101|\n",
      "|       7.5|  106|\n",
      "|       7.4|  131|\n",
      "|       7.3|  121|\n",
      "|       7.2|  110|\n",
      "|       7.1|  112|\n",
      "|       7.0|   99|\n",
      "|       6.9|   94|\n",
      "|       6.8|   92|\n",
      "|       6.7|   97|\n",
      "|       6.6|  101|\n",
      "|       6.5|  102|\n",
      "|       6.4|   87|\n",
      "|       6.3|   76|\n",
      "|       6.2|   77|\n",
      "|     6.175|    1|\n",
      "|       6.1|   64|\n",
      "|       6.0|   52|\n",
      "|       5.9|   47|\n",
      "|       5.8|   50|\n",
      "|       5.7|   50|\n",
      "|       5.6|   42|\n",
      "|       5.5|   38|\n",
      "|       5.4|   39|\n",
      "|       5.3|   31|\n",
      "|       5.2|   28|\n",
      "|       5.1|   18|\n",
      "|       5.0|   21|\n",
      "|       4.9|    9|\n",
      "|       4.8|   11|\n",
      "|       4.7|   12|\n",
      "|       4.6|   10|\n",
      "|     4.595|    1|\n",
      "|       4.5|    9|\n",
      "|       4.4|    9|\n",
      "|       4.3|    3|\n",
      "|       4.2|    3|\n",
      "|       4.1|    5|\n",
      "|       4.0|   10|\n",
      "|       3.9|    2|\n",
      "|       3.8|    6|\n",
      "|       3.7|    7|\n",
      "|       3.6|    3|\n",
      "|       3.5|    3|\n",
      "|       3.4|    2|\n",
      "|       3.3|    3|\n",
      "|       3.2|    2|\n",
      "|       3.1|    1|\n",
      "|       3.0|    2|\n",
      "|       2.9|    2|\n",
      "|       2.8|    1|\n",
      "|       2.6|    2|\n",
      "|       2.5|    1|\n",
      "|       2.0|    4|\n",
      "|       1.7|    1|\n",
      "|       1.6|    1|\n",
      "|       1.5|    1|\n",
      "|       1.0|    6|\n",
      "+----------+-----+\n",
      "\n"
     ]
    }
   ],
   "source": [
    "tv_shows_by_rating_df = hbo_df.groupBy('imdb_score').agg(count('*').alias('Count'))\n",
    "tv_shows_by_rating_df = tv_shows_by_rating_df.filter(tv_shows_by_rating_df['imdb_score'] < 10)\n",
    "tv_shows_by_rating_df_sorted = tv_shows_by_rating_df.sort('imdb_score', ascending = False)\n",
    "tv_shows_by_rating_df_sorted.show(95)"
   ]
  },
  {
   "cell_type": "markdown",
   "id": "90b168f2",
   "metadata": {},
   "source": [
    "Com recurso à biblioteca ‘Matplotlib’, foi elaborado um histograma que mostra a quantidade de séries e filmes lançados entre os anos de 1920 e 2020. É percetível através do gráfico que existe uma tendência: há medida que os anos vão passando, o número de series/filmes, lançados vai aumentando. Na última década, este aumento foi bastante mais acentuado. Os avanços tecnológicos, o aumento dos serviços das plataformas de streaming, e até a mudança dos hábitos de consumo dos espetadores, justificam o aumento significativo na produção e lançamento de series e filmes na última década.\n",
    "\n",
    "De seguida, foi elaborado um novo histograma que reflete a quantidade de series/filmes com a mesma duração (min). O gráfico demonstra haver outliers no que respeita a series/filmes com uma duração superior a 200 minutos.\n",
    "\n",
    "Foi ainda elaborada uma análise à variável pontuação ('imdb_score'), sendo que a classificação mais vezes atribuída em series/filmes é 7,4 (131 vezes), seguida de 7,3 (121 vezes)."
   ]
  },
  {
   "cell_type": "markdown",
   "id": "ed816011",
   "metadata": {},
   "source": [
    "#### Separação de dados em diferentes colunas"
   ]
  },
  {
   "cell_type": "markdown",
   "id": "3ed46ea8",
   "metadata": {},
   "source": [
    "De seguida, por forma a melhor adequar o dataframe ao estudo pretendido, separou-se o género de serie/filme em diferentes colunas. Realizou-se inicialmente uma limpeza à variável ‘genres’: através da criação de uma nova coluna, aplicando as funções ‘genres_clean’ e regexp_replace’ tendo-se removido alguns caracteres especiais (parênteses retos). Após esse tratamento, dividiu-se o string com a utilização de virgulas, utilizando a função ‘spliti. Por fim, foi criada uma nova coluna para cada item da string, utilizado o método ‘getItem’. \n"
   ]
  },
  {
   "cell_type": "code",
   "execution_count": 15,
   "id": "2ee15f4d",
   "metadata": {
    "scrolled": true
   },
   "outputs": [
    {
     "name": "stdout",
     "output_type": "stream",
     "text": [
      "+--------------------+--------------------+-----------+----------------+----------------+\n",
      "|              genres|        genres_clean|    genre_0|         genre_1|         genre_2|\n",
      "+--------------------+--------------------+-----------+----------------+----------------+\n",
      "|['fantasy', 'fami...| 'fantasy', 'family'|  'fantasy'|        'family'|            null|\n",
      "|           ['drama']|             'drama'|    'drama'|            null|            null|\n",
      "|['drama', 'romanc...|'drama', 'romance...|    'drama'|       'romance'|           'war'|\n",
      "|['thriller', 'cri...| 'thriller', 'crime'| 'thriller'|         'crime'|            null|\n",
      "|['thriller', 'rom...|'thriller', 'roma...| 'thriller'|       'romance'|         'crime'|\n",
      "|                 233|                 233|        233|            null|            null|\n",
      "|['animation', 'co...|'animation', 'com...|'animation'|        'comedy'|        'family'|\n",
      "|['western', 'drama']|  'western', 'drama'|  'western'|         'drama'|            null|\n",
      "|                1950|                1950|       1950|            null|            null|\n",
      "|['romance', 'come...| 'romance', 'comedy'|  'romance'|        'comedy'|            null|\n",
      "|                  88|                  88|         88|            null|            null|\n",
      "|['romance', 'dram...|'romance', 'drama...|  'romance'|         'drama'|         'music'|\n",
      "|['western', 'drama']|  'western', 'drama'|  'western'|         'drama'|            null|\n",
      "|['thriller', 'eur...|'thriller', 'euro...| 'thriller'|      'european'|         'crime'|\n",
      "| ['drama', 'horror']|   'drama', 'horror'|    'drama'|        'horror'|            null|\n",
      "|['comedy', 'war',...|'comedy', 'war', ...|   'comedy'|           'war'|         'drama'|\n",
      "|['thriller', 'cri...| 'thriller', 'crime'| 'thriller'|         'crime'|            null|\n",
      "|        ['thriller']|          'thriller'| 'thriller'|            null|            null|\n",
      "|['drama', 'europe...| 'drama', 'european'|    'drama'|      'european'|            null|\n",
      "|['drama', 'europe...|'drama', 'europea...|    'drama'|      'european'|       'history'|\n",
      "|['romance', 'dram...|'romance', 'drama...|  'romance'|         'drama'|        'comedy'|\n",
      "|['horror', 'europ...|'horror', 'europe...|   'horror'|      'european'| 'documentation'|\n",
      "|['fantasy', 'horr...|'fantasy', 'horro...|  'fantasy'|        'horror'|         'scifi'|\n",
      "|           ['drama']|             'drama'|    'drama'|            null|            null|\n",
      "|['comedy', 'europ...|'comedy', 'europe...|   'comedy'|      'european'|       'romance'|\n",
      "|['romance', 'drama']|  'romance', 'drama'|  'romance'|         'drama'|            null|\n",
      "|['drama', 'comedy...|'drama', 'comedy'...|    'drama'|        'comedy'|       'romance'|\n",
      "|['drama', 'romanc...|'drama', 'romance...|    'drama'|       'romance'|           'war'|\n",
      "|['drama', 'romance']|  'drama', 'romance'|    'drama'|       'romance'|            null|\n",
      "|['comedy', 'roman...|'comedy', 'romanc...|   'comedy'|       'romance'|         'drama'|\n",
      "|['drama', 'romance']|  'drama', 'romance'|    'drama'|       'romance'|            null|\n",
      "|  ['crime', 'drama']|    'crime', 'drama'|    'crime'|         'drama'|            null|\n",
      "|['thriller', 'hor...|'thriller', 'horr...| 'thriller'|        'horror'|        'action'|\n",
      "|['horror', 'fanta...|'horror', 'fantas...|   'horror'|       'fantasy'|      'european'|\n",
      "|           ['drama']|             'drama'|    'drama'|            null|            null|\n",
      "|['romance', 'dram...|'romance', 'drama...|  'romance'|         'drama'|        'comedy'|\n",
      "|['drama', 'thrill...|'drama', 'thrille...|    'drama'|      'thriller'|         'crime'|\n",
      "|           ['drama']|             'drama'|    'drama'|            null|            null|\n",
      "|['drama', 'europe...|'drama', 'europea...|    'drama'|      'european'|           'war'|\n",
      "|['drama', 'romanc...|'drama', 'romance...|    'drama'|       'romance'|         'crime'|\n",
      "|['drama', 'histor...|'drama', 'history...|    'drama'|       'history'|       'romance'|\n",
      "|['romance', 'dram...|'romance', 'drama...|  'romance'|         'drama'|       'history'|\n",
      "|['action', 'roman...|'action', 'romanc...|   'action'|       'romance'|        'comedy'|\n",
      "|['drama', 'histor...|'drama', 'history...|    'drama'|       'history'|      'thriller'|\n",
      "|['comedy', 'roman...| 'comedy', 'romance'|   'comedy'|       'romance'|            null|\n",
      "|['drama', 'thrill...|'drama', 'thrille...|    'drama'|      'thriller'|         'crime'|\n",
      "|['comedy', 'drama...|'comedy', 'drama'...|   'comedy'|         'drama'|       'western'|\n",
      "|['drama', 'comedy...|'drama', 'comedy'...|    'drama'|        'comedy'|        'family'|\n",
      "|['fantasy', 'euro...|'fantasy', 'europ...|  'fantasy'|      'european'|       'romance'|\n",
      "|['action', 'thril...|'action', 'thrill...|   'action'|      'thriller'|           'war'|\n",
      "|['drama', 'thrill...|'drama', 'thrille...|    'drama'|      'thriller'|         'crime'|\n",
      "|['scifi', 'fantas...|'scifi', 'fantasy...|    'scifi'|       'fantasy'|      'european'|\n",
      "|['fantasy', 'fami...|'fantasy', 'famil...|  'fantasy'|        'family'|       'romance'|\n",
      "| ['drama', 'family']|   'drama', 'family'|    'drama'|        'family'|            null|\n",
      "|['crime', 'thrill...|'crime', 'thrille...|    'crime'|      'thriller'|      'european'|\n",
      "|['drama', 'romance']|  'drama', 'romance'|    'drama'|       'romance'|            null|\n",
      "|['drama', 'thrill...|'drama', 'thrille...|    'drama'|      'thriller'|         'crime'|\n",
      "|           ['drama']|             'drama'|    'drama'|            null|            null|\n",
      "|['crime', 'thrill...|'crime', 'thrille...|    'crime'|      'thriller'|         'drama'|\n",
      "|['fantasy', 'fami...|'fantasy', 'famil...|  'fantasy'|        'family'|        'action'|\n",
      "|['drama', 'histor...|'drama', 'history...|    'drama'|       'history'|           'war'|\n",
      "|['comedy', 'roman...| 'comedy', 'romance'|   'comedy'|       'romance'|            null|\n",
      "|['comedy', 'drama...|'comedy', 'drama'...|   'comedy'|         'drama'|         'music'|\n",
      "|['comedy', 'fanta...| 'comedy', 'fantasy'|   'comedy'|       'fantasy'|            null|\n",
      "|['drama', 'family...|'drama', 'family'...|    'drama'|        'family'|         'sport'|\n",
      "|['comedy', 'drama...|'comedy', 'drama'...|   'comedy'|         'drama'|       'romance'|\n",
      "|    ['drama', 'war']|      'drama', 'war'|    'drama'|           'war'|            null|\n",
      "|['comedy', 'music...|'comedy', 'music'...|   'comedy'|         'music'|       'romance'|\n",
      "|['romance', 'spor...|'romance', 'sport...|  'romance'|         'sport'|        'comedy'|\n",
      "|['romance', 'drama']|  'romance', 'drama'|  'romance'|         'drama'|            null|\n",
      "|['comedy', 'drama...|'comedy', 'drama'...|   'comedy'|         'drama'|        'family'|\n",
      "|         ['western']|           'western'|  'western'|            null|            null|\n",
      "|['comedy', 'drama...|'comedy', 'drama'...|   'comedy'|         'drama'|      'thriller'|\n",
      "|['drama', 'thrill...| 'drama', 'thriller'|    'drama'|      'thriller'|            null|\n",
      "|['fantasy', 'dram...|'fantasy', 'drama...|  'fantasy'|         'drama'|       'romance'|\n",
      "|['drama', 'histor...|'drama', 'history...|    'drama'|       'history'|       'romance'|\n",
      "|           ['drama']|             'drama'|    'drama'|            null|            null|\n",
      "|['thriller', 'war...|'thriller', 'war'...| 'thriller'|           'war'|         'drama'|\n",
      "|['comedy', 'famil...|'comedy', 'family...|   'comedy'|        'family'|       'romance'|\n",
      "|['romance', 'crim...|'romance', 'crime...|  'romance'|         'crime'|         'drama'|\n",
      "|['history', 'come...|'history', 'comed...|  'history'|        'comedy'|         'drama'|\n",
      "|['drama', 'comedy...|'drama', 'comedy'...|    'drama'|        'comedy'|      'european'|\n",
      "|           ['drama']|             'drama'|    'drama'|            null|            null|\n",
      "|['thriller', 'cri...|'thriller', 'crim...| 'thriller'|         'crime'|         'drama'|\n",
      "|['crime', 'romanc...|'crime', 'romance...|    'crime'|       'romance'|         'drama'|\n",
      "|['action', 'docum...|'action', 'docume...|   'action'| 'documentation'|            null|\n",
      "|['drama', 'europe...|'drama', 'europea...|    'drama'|      'european'|           'war'|\n",
      "|          ['comedy']|            'comedy'|   'comedy'|            null|            null|\n",
      "|['romance', 'crim...|'romance', 'crime...|  'romance'|         'crime'|      'european'|\n",
      "|['comedy', 'crime...|'comedy', 'crime'...|   'comedy'|         'crime'|         'drama'|\n",
      "|    ['drama', 'war']|      'drama', 'war'|    'drama'|           'war'|            null|\n",
      "|['romance', 'come...|'romance', 'comed...|  'romance'|        'comedy'|        'family'|\n",
      "|['drama', 'history']|  'drama', 'history'|    'drama'|       'history'|            null|\n",
      "|['music', 'romanc...|'music', 'romance...|    'music'|       'romance'|         'drama'|\n",
      "|['romance', 'fant...|'romance', 'fanta...|  'romance'|       'fantasy'|        'comedy'|\n",
      "|['drama', 'europe...| 'drama', 'european'|    'drama'|      'european'|            null|\n",
      "|['romance', 'come...|'romance', 'comed...|  'romance'|        'comedy'|      'european'|\n",
      "|['drama', 'war', ...|'drama', 'war', '...|    'drama'|           'war'|      'european'|\n",
      "|['crime', 'drama'...|'crime', 'drama',...|    'crime'|         'drama'|      'thriller'|\n",
      "|['comedy', 'music...|'comedy', 'music'...|   'comedy'|         'music'|       'romance'|\n",
      "+--------------------+--------------------+-----------+----------------+----------------+\n",
      "only showing top 100 rows\n",
      "\n"
     ]
    }
   ],
   "source": [
    "# Separar o genero de filme/serie em diferentes colunas\n",
    "\n",
    "# Primeiro criámos uma nova coluna sem os '[]'\n",
    "genres_df = hbo_df.withColumn('genres_clean', regexp_replace(col('genres'), '\\[|\\]', ''))\n",
    "\n",
    "# Depois dividimos a string na virgula.\n",
    "genres_df = genres_df.withColumn('genre_array', split(col('genres_clean'), ','))\n",
    "\n",
    "# Por fim, criamos uma nova coluna para cada item da string\n",
    "genres_df = genres_df.withColumn(\"genre_0\", col(\"genre_array\").getItem(0))\n",
    "genres_df = genres_df.withColumn(\"genre_1\", col(\"genre_array\").getItem(1))\n",
    "genres_df = genres_df.withColumn(\"genre_2\", col(\"genre_array\").getItem(2))\n",
    "\n",
    "# Visualizar todas as colunas criadas\n",
    "genres_df.select('genres','genres_clean','genre_0','genre_1','genre_2').show(100)"
   ]
  },
  {
   "cell_type": "code",
   "execution_count": 16,
   "id": "889635e2",
   "metadata": {
    "scrolled": true
   },
   "outputs": [
    {
     "name": "stdout",
     "output_type": "stream",
     "text": [
      "Esta coluna tem 281 linhas e 14 valores unicos.\n",
      "+---------------+\n",
      "|        genre_0|\n",
      "+---------------+\n",
      "|    'animation'|\n",
      "|'documentation'|\n",
      "|        'drama'|\n",
      "|      'reality'|\n",
      "|       'comedy'|\n",
      "|        'crime'|\n",
      "|       'family'|\n",
      "|        'scifi'|\n",
      "|          'war'|\n",
      "|      'fantasy'|\n",
      "|       'action'|\n",
      "|      'western'|\n",
      "|     'thriller'|\n",
      "|      'romance'|\n",
      "+---------------+\n",
      "\n"
     ]
    }
   ],
   "source": [
    "genres_df=genres_df.dropna()\n",
    "rating_count = genres_df.select(countDistinct(\"genre_0\")).collect()[0][0]\n",
    "print('Esta coluna tem',genres_df.select('genre_0').count(),\"linhas e\",rating_count,\"valores unicos.\")\n",
    "genres_df.select('genre_0').distinct().show(20)"
   ]
  },
  {
   "cell_type": "markdown",
   "id": "79a4b35b",
   "metadata": {},
   "source": [
    "#### Valores Nulos"
   ]
  },
  {
   "cell_type": "markdown",
   "id": "f205bba9",
   "metadata": {},
   "source": [
    "Posteriormente, foi efetuada a análise aos valores nulos, e, no sentido de evitar enviesamento nos dados, determinou-se que os valores nulos seriam eliminados."
   ]
  },
  {
   "cell_type": "code",
   "execution_count": 17,
   "id": "c8b1219b",
   "metadata": {},
   "outputs": [
    {
     "name": "stdout",
     "output_type": "stream",
     "text": [
      "id = 3334 valores NÃO nulos e 0 valores nulos\n",
      "title = 3334 valores NÃO nulos e 0 valores nulos\n",
      "type = 3331 valores NÃO nulos e 3 valores nulos\n",
      "description = 3319 valores NÃO nulos e 15 valores nulos\n",
      "release_year = 3116 valores NÃO nulos e 218 valores nulos\n",
      "age_certification = 2141 valores NÃO nulos e 1193 valores nulos\n",
      "runtime = 3157 valores NÃO nulos e 177 valores nulos\n",
      "genres = 3289 valores NÃO nulos e 45 valores nulos\n",
      "production_countries = 3291 valores NÃO nulos e 43 valores nulos\n",
      "seasons = 738 valores NÃO nulos e 2596 valores nulos\n",
      "imdb_id = 2947 valores NÃO nulos e 387 valores nulos\n",
      "imdb_score = 2799 valores NÃO nulos e 535 valores nulos\n",
      "imdb_votes = 2819 valores NÃO nulos e 515 valores nulos\n",
      "tmdb_popularity = 3178 valores NÃO nulos e 156 valores nulos\n",
      "tmdb_score = 3010 valores NÃO nulos e 324 valores nulos\n"
     ]
    }
   ],
   "source": [
    "#Verificar quantos valores nulos existem em cada coluna.\n",
    "for colu in hbo_df.columns:\n",
    "    print(colu, \"=\", hbo_df.filter(hbo_df[colu].isNotNull()).count(), \"valores NÃO nulos e\",\n",
    "          hbo_df.filter(hbo_df[colu].isNull()).count(),\"valores nulos\")"
   ]
  },
  {
   "cell_type": "code",
   "execution_count": 18,
   "id": "7b544017",
   "metadata": {},
   "outputs": [],
   "source": [
    "# Apagar todas as linhas com nulls.\n",
    "hbo_df=hbo_df.dropna()"
   ]
  },
  {
   "cell_type": "code",
   "execution_count": 19,
   "id": "5620dce3",
   "metadata": {},
   "outputs": [
    {
     "name": "stdout",
     "output_type": "stream",
     "text": [
      "id = 493 valores NÃO nulos e 0 valores nulos\n",
      "title = 493 valores NÃO nulos e 0 valores nulos\n",
      "type = 493 valores NÃO nulos e 0 valores nulos\n",
      "description = 493 valores NÃO nulos e 0 valores nulos\n",
      "release_year = 493 valores NÃO nulos e 0 valores nulos\n",
      "age_certification = 493 valores NÃO nulos e 0 valores nulos\n",
      "runtime = 493 valores NÃO nulos e 0 valores nulos\n",
      "genres = 493 valores NÃO nulos e 0 valores nulos\n",
      "production_countries = 493 valores NÃO nulos e 0 valores nulos\n",
      "seasons = 493 valores NÃO nulos e 0 valores nulos\n",
      "imdb_id = 493 valores NÃO nulos e 0 valores nulos\n",
      "imdb_score = 493 valores NÃO nulos e 0 valores nulos\n",
      "imdb_votes = 493 valores NÃO nulos e 0 valores nulos\n",
      "tmdb_popularity = 493 valores NÃO nulos e 0 valores nulos\n",
      "tmdb_score = 493 valores NÃO nulos e 0 valores nulos\n"
     ]
    }
   ],
   "source": [
    "# Confirmação de todos os null apagados.\n",
    "for colu in hbo_df.columns:\n",
    "    print(colu, \"=\", hbo_df.filter(hbo_df[colu].isNotNull()).count(), \"valores NÃO nulos e\",\n",
    "          hbo_df.filter(hbo_df[colu].isNull()).count(),\"valores nulos\")"
   ]
  },
  {
   "cell_type": "markdown",
   "id": "e20c9760",
   "metadata": {},
   "source": [
    "#### Aplicação Modelo de Machine Learning - Regressão Linear"
   ]
  },
  {
   "cell_type": "markdown",
   "id": "1366f4f7",
   "metadata": {},
   "source": [
    "Procedemos à aplicabilidade do Modelo de Machine Learning - Regressão Linear. Pretende-se obter com o modelo de regressão um conjunto de coeficientes que minimoze a diferença entre os valores previstos e os valores reais da variável. É através dos coeficientes, que definimos a equação de regressão linear do modelo.\n",
    "\n",
    "Primeiramente, dividiu-se a base de dados em valores de treino e em valores de teste a fim de obtermos um modelo ajustado. De seguida, foi aplicado o transformador do PySpark (‘VectorAssembler’) para combinar diversas colunas numa única coluna de vetor."
   ]
  },
  {
   "cell_type": "code",
   "execution_count": 20,
   "id": "f0a662ab",
   "metadata": {},
   "outputs": [],
   "source": [
    "# Dividir a BD em valores de treino e em valores de teste.\n",
    "train_df, test_df = hbo_df.randomSplit([0.7, 0.3], seed=42)"
   ]
  },
  {
   "cell_type": "code",
   "execution_count": 21,
   "id": "d606273c",
   "metadata": {},
   "outputs": [],
   "source": [
    "assembler = VectorAssembler(inputCols=['runtime', 'release_year', 'seasons','imdb_votes','tmdb_popularity',], outputCol='features')"
   ]
  },
  {
   "cell_type": "code",
   "execution_count": 22,
   "id": "46045e92",
   "metadata": {},
   "outputs": [],
   "source": [
    "train_features_df = assembler.transform(train_df)\n",
    "test_features_df = assembler.transform(test_df)"
   ]
  },
  {
   "cell_type": "code",
   "execution_count": 23,
   "id": "dfdff475",
   "metadata": {},
   "outputs": [],
   "source": [
    "lr = LinearRegression(featuresCol='features', labelCol='imdb_score')"
   ]
  },
  {
   "cell_type": "code",
   "execution_count": 24,
   "id": "6aa4e47b",
   "metadata": {},
   "outputs": [],
   "source": [
    "lr_model = lr.fit(train_features_df)"
   ]
  },
  {
   "cell_type": "code",
   "execution_count": 25,
   "id": "85691259",
   "metadata": {},
   "outputs": [],
   "source": [
    "predictions_df = lr_model.transform(test_features_df)"
   ]
  },
  {
   "cell_type": "code",
   "execution_count": 2,
   "id": "f5cd2a30",
   "metadata": {},
   "outputs": [
    {
     "ename": "NameError",
     "evalue": "name 'predictions_df' is not defined",
     "output_type": "error",
     "traceback": [
      "\u001b[1;31m---------------------------------------------------------------------------\u001b[0m",
      "\u001b[1;31mNameError\u001b[0m                                 Traceback (most recent call last)",
      "\u001b[1;32m~\\AppData\\Local\\Temp\\ipykernel_16216\\3252801992.py\u001b[0m in \u001b[0;36m<module>\u001b[1;34m\u001b[0m\n\u001b[1;32m----> 1\u001b[1;33m \u001b[0mpredictions_df\u001b[0m\u001b[1;33m(\u001b[0m\u001b[1;36m29\u001b[0m\u001b[1;33m,\u001b[0m\u001b[1;36m2012\u001b[0m\u001b[1;33m,\u001b[0m\u001b[1;36m4\u001b[0m\u001b[1;33m,\u001b[0m\u001b[1;36m563\u001b[0m\u001b[1;33m,\u001b[0m\u001b[1;36m87\u001b[0m\u001b[1;33m)\u001b[0m\u001b[1;33m\u001b[0m\u001b[1;33m\u001b[0m\u001b[0m\n\u001b[0m",
      "\u001b[1;31mNameError\u001b[0m: name 'predictions_df' is not defined"
     ]
    }
   ],
   "source": [
    "predictions_df(29,2012,4,563,87)"
   ]
  },
  {
   "cell_type": "markdown",
   "id": "f56df975",
   "metadata": {},
   "source": [
    "# 3. Resultados Obtidos"
   ]
  },
  {
   "cell_type": "markdown",
   "id": "ca70af5e",
   "metadata": {},
   "source": [
    "### a) Apresentação da pontuação IMDB prevista"
   ]
  },
  {
   "cell_type": "code",
   "execution_count": 26,
   "id": "ad18b059",
   "metadata": {
    "scrolled": true
   },
   "outputs": [
    {
     "name": "stdout",
     "output_type": "stream",
     "text": [
      "+-------+------------+-------+----------+---------------+----------+------------------+\n",
      "|runtime|release_year|seasons|imdb_votes|tmdb_popularity|imdb_score|        prediction|\n",
      "+-------+------------+-------+----------+---------------+----------+------------------+\n",
      "|   29.0|        2006|      1|       518|          0.715|       5.2|  7.23329209686662|\n",
      "|   58.0|        2020|      1|      3399|          3.696|       7.1| 7.140503098824219|\n",
      "|   25.0|        2019|      3|      1411|          2.983|       8.1| 6.910319239283503|\n",
      "|   45.0|        2019|      2|      2335|          5.383|       7.5| 7.069840949014456|\n",
      "|   22.0|        2014|      6|      2354|           3.72|       7.5| 7.029477082490828|\n",
      "|   22.0|        2005|      4|     18578|        134.112|       7.4| 7.555607448245915|\n",
      "|   23.0|        2008|      3|      9789|        110.808|       7.2|7.4179718675948365|\n",
      "|   23.0|        2010|      3|      7423|        116.779|       7.6|7.3801343703958295|\n",
      "|   56.0|        2009|      1|     16670|         15.425|       8.1|7.4353064359782906|\n",
      "|   60.0|        2015|      1|      3089|          5.722|       6.5| 7.280285968321415|\n",
      "+-------+------------+-------+----------+---------------+----------+------------------+\n",
      "only showing top 10 rows\n",
      "\n"
     ]
    }
   ],
   "source": [
    "view = predictions_df.select('runtime', 'release_year', 'seasons','imdb_votes','tmdb_popularity','imdb_score','prediction')\n",
    "view.show(10)"
   ]
  },
  {
   "cell_type": "markdown",
   "id": "ad095abd",
   "metadata": {},
   "source": [
    "  Com base na tabela supra, é possível observar os valores previstos pelo modelo de regressão, validando a funcionalidade do modelo e do código utilizado para a sua construção. Adicionalmente, a referida tabela apresenta uma comparação entre a pontuação prevista e a pontuação real constante no dataset."
   ]
  },
  {
   "cell_type": "markdown",
   "id": "4f25ae9d",
   "metadata": {},
   "source": [
    "### b) Avaliação do modelo"
   ]
  },
  {
   "cell_type": "markdown",
   "id": "d3ad6dc6",
   "metadata": {},
   "source": [
    "Com base nas expressões de avaliação descritas infra, efetuou-se a análise da eficácia do modelo na previsão de resultados.\n",
    "\n",
    "Para este efeito, foram considerados as métricas Root Mean Square Error (RMSE) e R-squared (R2), sendo que RMSE representa a diferença média entre os valores previstos pelo modelo e os valores atuais (IBM Documentation, s.d.) e R2 representa a proporção da variância na variável dependente que pode ser explicada pela variável independente, ou seja, o quanto os dados se encaixam no modelo de previsão (Abba, 2023).\n",
    "\n",
    "Relativamente à aplicação destas métricas, é expectável que um modelo ideal apresente RMSE até um intervalo entre 0.50 e 0.80, sendo que quanto menor maior será a precisão, se os dados forem normalizados (SAP Help Portal, s.d.). No âmbito da presente análise, uma vez que não se procedeu à normalização dos dados, uma vez que é pretendido o estudo dos valores dos atributos na sua origem, o RMSE terá de ser considerado tendo em consideração a natureza da base de dados. Relativamente ao R2, deverá ser superior a 0.50, devido a tratar-se de uma previsão de comportamento humano (a atribuição de uma pontuação subjetiva).\n"
   ]
  },
  {
   "cell_type": "code",
   "execution_count": 39,
   "id": "37470f12",
   "metadata": {
    "scrolled": false
   },
   "outputs": [
    {
     "name": "stdout",
     "output_type": "stream",
     "text": [
      "RMSE: 0.9963188957694896\n",
      "R2: 0.011930769704008304\n",
      "RMSE em função da média de pontuação IMDB: 13.606992509678062\n"
     ]
    }
   ],
   "source": [
    "evaluator = RegressionEvaluator(predictionCol='prediction', labelCol='imdb_score', metricName='rmse')\n",
    "rmse = evaluator.evaluate(predictions_df)\n",
    "evaluator2 = RegressionEvaluator(predictionCol='prediction', labelCol='imdb_score', metricName='r2')\n",
    "r2 = evaluator2.evaluate(predictions_df)\n",
    "rmse = float(rmse)\n",
    "mean = hbo_df.agg({'imdb_score': 'mean'})\n",
    "mean_collected = mean.collect()[0][0]\n",
    "RMSE_pct = rmse / mean_collected * 100\n",
    "print(f\"RMSE: {rmse}\")\n",
    "print(f\"R2: {r2}\")\n",
    "print(f'RMSE em função da média de pontuação IMDB: {RMSE_pct}')"
   ]
  },
  {
   "cell_type": "markdown",
   "id": "43737cd3",
   "metadata": {},
   "source": [
    "Conforme é possível observar, o modelo apresenta um rácio RMSE de 0,996, o que significa que em média, o modelo permite prever a pontuação IMDB para uma determinada séria com um erro de 0,996, ou aproximadamente 1 ponto.\n",
    "\n",
    "Em termos percentuais, representa um erro de 13,61% face à pontuação esperada.\n",
    "\n",
    "Relativamente à métrica R2, o modelo apresenta valor de 0,012, o que se demonstra significativamente inferior ao valor esperado para um modelo que represente com confiança o dataset."
   ]
  },
  {
   "cell_type": "code",
   "execution_count": 24,
   "id": "dee667cc",
   "metadata": {
    "scrolled": true
   },
   "outputs": [
    {
     "name": "stdout",
     "output_type": "stream",
     "text": [
      "Intercept: 55.00968228664363\n",
      "Coefficients: [0.007966449612801966,-0.02393649074243771,0.006741778943805336,1.547099721469274e-06,0.0022937401150349705]\n",
      "\n",
      "Expressão matemática: \n",
      "Y (imdb_score) = 55.0097 + \n",
      "(0.008 x Runtime) + (-0.0239 x Release_Year) + (0.0067 x Seasons) + (1.55e-06 x imdb_votes) + (0.0023 x tmdb_popularity)\n"
     ]
    }
   ],
   "source": [
    "intercept = lr_model.intercept\n",
    "coefficients = lr_model.coefficients\n",
    "print(\"Intercept: \" + str(intercept))\n",
    "print(\"Coefficients: \" + str(coefficients))\n",
    "print(\"\\nExpressão matemática: \")\n",
    "print(\"Y (imdb_score) = \" + str(round(intercept,4)) + \" + \\n(\" + str(round(coefficients[0],4)) + \" x Runtime\" + \") + (\" + str(round(coefficients[1],4)) + \" x Release_Year\"+ \") + (\" + str(round(coefficients[2],4)) + \" x Seasons\"\") + (\" + str(round(coefficients[3],8)) + \" x imdb_votes\"+ \") + (\" + str(round(coefficients[4],4)) + \" x tmdb_popularity)\")"
   ]
  },
  {
   "cell_type": "markdown",
   "id": "4971073f",
   "metadata": {},
   "source": [
    "A expressão supra permite visualizar a fórmula matemática utilizada pelo modelo para efetuar a previsão dos resultados."
   ]
  },
  {
   "cell_type": "markdown",
   "id": "f4fecea6",
   "metadata": {},
   "source": [
    "# 4. Conclusões"
   ]
  },
  {
   "cell_type": "markdown",
   "id": "bc0403d0",
   "metadata": {},
   "source": [
    "Conforme previamente referido no presente documento, este estudo teve como origem dos seus dados um dataset pré construído, constante da plataforma online 'Kaggle', contendo um repositório de séries e filmes constantes da plataforma de 'streaming' digital, HBO Max. A análise deste dataset visou a elaboração de um modelo de previsão, cujo output final esperado seria indicação da pontuação IMDB que uma possível nova séria com determinados atributos poderia obter.\n",
    "\n",
    "Para este efeito, foi necessário a importação do dataset, com posterior tratamento dos dados recorrendo ao framework 'PySpark', uma vez que esta ferramente é indicada para tratamento de largos conjuntos de dados. O tratamento realizou-se no sentido de uniformizar o conjunto dos dados para que este esteja adequado aos métodos a aplicar, assim como realização de análises estatísticas preliminares.\n",
    "\n",
    "Após a constução do modelo de previsão e sucesso na sua execução, observou-se que, efetivamente, é possível a obtenção da previsão inicialmente proposta.\n",
    "\n",
    "Em análise às previsões efetuadas e à avaliação da robustez e capacidade do modelo, verificou-se que, não obstante ter-se obtido, efetivamente, uma previsão final, a comparação com os dados de teste retorna valores de RMSE e R2 que se situam fora dos valores entendidos como aceitáveis, concluindo-se que o modelo não apresenta uma forte capacidade de previsão. Este fato poderá ter que ver com diversos fatores, estimando-se que o principal fator de erro será a fraca significância dos atributos que constituem o dataset. A dificuldade na obtenção de um conjunto robusto de dados foi notável, sendo que a maioria dos datasets encontrados apresenta dados considerados incompletos para uma análise sólida.\n",
    "\n",
    "Apesar da previsão com elevado grau de erro que o modelo apresenta, consideramos que, numa ótica de análise preliminar de um possível investimento, ainda assim, o modelo efetivamente apresenta uma previsão de tendência que poderá ser utilizada como possível métrica de receção no mercado."
   ]
  },
  {
   "cell_type": "markdown",
   "id": "470e1da0",
   "metadata": {},
   "source": [
    "# 5. Bibliografia"
   ]
  },
  {
   "cell_type": "markdown",
   "id": "7dc769d9",
   "metadata": {},
   "source": [
    "SAP Help Portal. (s.d.). SAP Help Portal. https://help.sap.com/docs/SAP_PREDICTIVE_ANALYTICS/41d1a6d4e7574e32b815f1cc87c00f42/5e5198fd4afe4ae5b48fefe0d3161810.html\n",
    "\n",
    "IBM Documentation. (s.d.). IBM - Deutschland | IBM. https://www.ibm.com/docs/en/cloud-paks/cp-data/3.0.1?topic=overview-root-mean-squared-error\n",
    "\n",
    "Abba, I. V. (2023, 28 de março). What is R Squared? R2 Value Meaning and Definition. freeCodeCamp.org. https://www.freecodecamp.org/news/what-is-r-squared-r2-value-meaning-and-definition/"
   ]
  },
  {
   "cell_type": "code",
   "execution_count": null,
   "id": "c8956fa1",
   "metadata": {},
   "outputs": [],
   "source": []
  }
 ],
 "metadata": {
  "kernelspec": {
   "display_name": "Python 3 (ipykernel)",
   "language": "python",
   "name": "python3"
  },
  "language_info": {
   "codemirror_mode": {
    "name": "ipython",
    "version": 3
   },
   "file_extension": ".py",
   "mimetype": "text/x-python",
   "name": "python",
   "nbconvert_exporter": "python",
   "pygments_lexer": "ipython3",
   "version": "3.9.13"
  }
 },
 "nbformat": 4,
 "nbformat_minor": 5
}
